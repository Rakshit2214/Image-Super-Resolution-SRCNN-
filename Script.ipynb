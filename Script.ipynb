{
  "nbformat": 4,
  "nbformat_minor": 0,
  "metadata": {
    "colab": {
      "provenance": []
    },
    "kernelspec": {
      "name": "python3",
      "display_name": "Python 3"
    },
    "language_info": {
      "name": "python"
    }
  },
  "cells": [
    {
      "cell_type": "code",
      "execution_count": null,
      "metadata": {
        "id": "UJc5xQhKOhWz"
      },
      "outputs": [],
      "source": []
    },
    {
      "cell_type": "code",
      "source": [],
      "metadata": {
        "id": "n3DKUx6IP-kF"
      },
      "execution_count": null,
      "outputs": []
    },
    {
      "cell_type": "code",
      "source": [],
      "metadata": {
        "colab": {
          "base_uri": "https://localhost:8080/",
          "height": 235
        },
        "id": "23fhFvHjR4dT",
        "outputId": "24422cda-ba62-4498-ae89-38f60bcafefe"
      },
      "execution_count": 1,
      "outputs": [
        {
          "output_type": "error",
          "ename": "error",
          "evalue": "ignored",
          "traceback": [
            "\u001b[0;31m---------------------------------------------------------------------------\u001b[0m",
            "\u001b[0;31merror\u001b[0m                                     Traceback (most recent call last)",
            "\u001b[0;32m<ipython-input-1-ca38c0557c93>\u001b[0m in \u001b[0;36m<cell line: 21>\u001b[0;34m()\u001b[0m\n\u001b[1;32m     19\u001b[0m \u001b[0;34m\u001b[0m\u001b[0m\n\u001b[1;32m     20\u001b[0m \u001b[0;31m# Save the image file\u001b[0m\u001b[0;34m\u001b[0m\u001b[0;34m\u001b[0m\u001b[0m\n\u001b[0;32m---> 21\u001b[0;31m \u001b[0mcv2\u001b[0m\u001b[0;34m.\u001b[0m\u001b[0mimwrite\u001b[0m\u001b[0;34m(\u001b[0m\u001b[0mfile_path\u001b[0m\u001b[0;34m,\u001b[0m \u001b[0mimg\u001b[0m\u001b[0;34m)\u001b[0m\u001b[0;34m\u001b[0m\u001b[0;34m\u001b[0m\u001b[0m\n\u001b[0m\u001b[1;32m     22\u001b[0m \u001b[0;34m\u001b[0m\u001b[0m\n\u001b[1;32m     23\u001b[0m \u001b[0;31m# Display a message to confirm that the image was saved\u001b[0m\u001b[0;34m\u001b[0m\u001b[0;34m\u001b[0m\u001b[0m\n",
            "\u001b[0;31merror\u001b[0m: OpenCV(4.7.0) /io/opencv/modules/imgcodecs/src/loadsave.cpp:783: error: (-215:Assertion failed) !_img.empty() in function 'imwrite'\n"
          ]
        }
      ]
    },
    {
      "cell_type": "code",
      "source": [
        "import os\n",
        "import cv2\n",
        "import numpy as np\n",
        "from PIL import Image\n",
        "\n",
        "# data_dir='LR_images'\n",
        "# hr_filenames=[os.path.join(data_dir, f) for f in sorted(os.listdir(data_dir)) if f.endswith('.jpg')]\n",
        "\n",
        "data_dir='LR_images'\n",
        "lr_filenames=[os.path.join(data_dir, f) for f in sorted(os.listdir(data_dir)) if f.endswith('.jpg')]\n",
        "\n",
        "train_indices = len(lr_filenames))\n",
        "  # Save the image pairs as numpy arrays\n",
        "\n",
        "test_lr = []\n",
        "\n",
        "for idx in range(train_indices):\n",
        "     \n",
        "      lr_img = Image.open(lr_filenames[idx])\n",
        "      test_lr.append(np.array(lr_img))\n",
        "np.savez('test.npz', lr=test_lr)"
      ],
      "metadata": {
        "colab": {
          "base_uri": "https://localhost:8080/",
          "height": 235
        },
        "id": "k5KHhosrSg0c",
        "outputId": "e072b1cf-bd1c-4fa9-b09c-eb1ffe84f905"
      },
      "execution_count": 3,
      "outputs": [
        {
          "output_type": "error",
          "ename": "FileNotFoundError",
          "evalue": "ignored",
          "traceback": [
            "\u001b[0;31m---------------------------------------------------------------------------\u001b[0m",
            "\u001b[0;31mFileNotFoundError\u001b[0m                         Traceback (most recent call last)",
            "\u001b[0;32m<ipython-input-3-13e8f9ce18d9>\u001b[0m in \u001b[0;36m<cell line: 7>\u001b[0;34m()\u001b[0m\n\u001b[1;32m      5\u001b[0m \u001b[0;34m\u001b[0m\u001b[0m\n\u001b[1;32m      6\u001b[0m \u001b[0mdata_dir\u001b[0m\u001b[0;34m=\u001b[0m\u001b[0;34m'HR_images'\u001b[0m\u001b[0;34m\u001b[0m\u001b[0;34m\u001b[0m\u001b[0m\n\u001b[0;32m----> 7\u001b[0;31m \u001b[0mhr_filenames\u001b[0m\u001b[0;34m=\u001b[0m\u001b[0;34m[\u001b[0m\u001b[0mos\u001b[0m\u001b[0;34m.\u001b[0m\u001b[0mpath\u001b[0m\u001b[0;34m.\u001b[0m\u001b[0mjoin\u001b[0m\u001b[0;34m(\u001b[0m\u001b[0mdata_dir\u001b[0m\u001b[0;34m,\u001b[0m \u001b[0mf\u001b[0m\u001b[0;34m)\u001b[0m \u001b[0;32mfor\u001b[0m \u001b[0mf\u001b[0m \u001b[0;32min\u001b[0m \u001b[0msorted\u001b[0m\u001b[0;34m(\u001b[0m\u001b[0mos\u001b[0m\u001b[0;34m.\u001b[0m\u001b[0mlistdir\u001b[0m\u001b[0;34m(\u001b[0m\u001b[0mdata_dir\u001b[0m\u001b[0;34m)\u001b[0m\u001b[0;34m)\u001b[0m \u001b[0;32mif\u001b[0m \u001b[0mf\u001b[0m\u001b[0;34m.\u001b[0m\u001b[0mendswith\u001b[0m\u001b[0;34m(\u001b[0m\u001b[0;34m'.jpg'\u001b[0m\u001b[0;34m)\u001b[0m\u001b[0;34m]\u001b[0m\u001b[0;34m\u001b[0m\u001b[0;34m\u001b[0m\u001b[0m\n\u001b[0m\u001b[1;32m      8\u001b[0m \u001b[0;34m\u001b[0m\u001b[0m\n\u001b[1;32m      9\u001b[0m \u001b[0mdata_dir\u001b[0m\u001b[0;34m=\u001b[0m\u001b[0;34m'LR_images'\u001b[0m\u001b[0;34m\u001b[0m\u001b[0;34m\u001b[0m\u001b[0m\n",
            "\u001b[0;31mFileNotFoundError\u001b[0m: [Errno 2] No such file or directory: 'HR_images'"
          ]
        }
      ]
    },
    {
      "cell_type": "code",
      "source": [
        "import numpy as np\n",
        "import tensorflow as tf"
      ],
      "metadata": {
        "id": "pQ0K0YfrTgCx"
      },
      "execution_count": null,
      "outputs": []
    },
    {
      "cell_type": "code",
      "source": [],
      "metadata": {
        "id": "ufjmQYYXUbe0"
      },
      "execution_count": null,
      "outputs": []
    },
    {
      "cell_type": "code",
      "source": [
        "test_data_lr = np.load('test.npz')\n",
        "test_data_lr=test_data_lr['lr']"
      ],
      "metadata": {
        "id": "mkuYmuKNUO1t"
      },
      "execution_count": null,
      "outputs": []
    },
    {
      "cell_type": "code",
      "source": [
        "test_data_lr = test_data_lr.astype('float32')\n",
        "test_data_lr/=255.0"
      ],
      "metadata": {
        "id": "88kJs43RUTdD"
      },
      "execution_count": null,
      "outputs": []
    },
    {
      "cell_type": "code",
      "source": [
        "import tensorflow as tf\n",
        "\n",
        "# Load the model\n",
        "model = tf.keras.models.load_model('/content/srcnn_model_6.h5')"
      ],
      "metadata": {
        "id": "VoblSM6zUWsu"
      },
      "execution_count": null,
      "outputs": []
    },
    {
      "cell_type": "code",
      "source": [
        "y_pred = model.predict(test_data_lr)"
      ],
      "metadata": {
        "id": "Cf8ie1evUcit"
      },
      "execution_count": null,
      "outputs": []
    },
    {
      "cell_type": "code",
      "source": [
        "import os\n",
        "from google.colab import drive\n",
        "from PIL import Image\n",
        "import numpy as np\n",
        "\n",
        "\n",
        "# Normalize the values in y_pred\n",
        "y_pred_norm = np.round(y_pred * 255).astype(np.uint8)\n",
        "\n",
        "# Set the path to the folder where you want to save the images\n",
        "folder_path = 'HR_images'\n",
        "\n",
        "# Check if the folder exists, create it if it doesn't\n",
        "if not os.path.exists(folder_path):\n",
        "  try:\n",
        "    os.makedirs(folder_path)\n",
        "  except OSError:\n",
        "    print(\"Error creating folder!\")\n",
        "    exit()\n",
        "k=0\n",
        "# Loop over all the images in y_pred and save them to the folder\n",
        "for i in range(len(y_pred_norm)):\n",
        "  # Create a PIL Image from the current image in y_pred_norm\n",
        "  pred_image = Image.fromarray(y_pred_norm[i])\n",
        "\n",
        "  # Set the name for the predicted image file\n",
        "  pred_imagename = f'lr{k}.jpg'\n",
        "  k+=1\n",
        "\n",
        "  # Save the predicted image to the folder\n",
        "  try:\n",
        "    pred_image.save(os.path.join(folder_path, pred_image_name))\n",
        "    print(f\"Image {i} saved successfully!\")\n",
        "  except Exception as e:\n",
        "    print(f\"An error occurred while saving image {i}: {e}\")"
      ],
      "metadata": {
        "id": "gMa2TBLkUgSQ"
      },
      "execution_count": null,
      "outputs": []
    }
  ]
}